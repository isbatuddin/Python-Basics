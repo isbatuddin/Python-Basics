{
 "cells": [
  {
   "cell_type": "code",
   "execution_count": 1,
   "id": "acca47b6",
   "metadata": {
    "_cell_guid": "b1076dfc-b9ad-4769-8c92-a6c4dae69d19",
    "_uuid": "8f2839f25d086af736a60e9eeb907d3b93b6e0e5",
    "execution": {
     "iopub.execute_input": "2025-06-20T10:17:21.431667Z",
     "iopub.status.busy": "2025-06-20T10:17:21.431252Z",
     "iopub.status.idle": "2025-06-20T10:17:23.109270Z",
     "shell.execute_reply": "2025-06-20T10:17:23.108393Z"
    },
    "papermill": {
     "duration": 1.687313,
     "end_time": "2025-06-20T10:17:23.110949",
     "exception": false,
     "start_time": "2025-06-20T10:17:21.423636",
     "status": "completed"
    },
    "tags": []
   },
   "outputs": [],
   "source": [
    "# This Python 3 environment comes with many helpful analytics libraries installed\n",
    "# It is defined by the kaggle/python Docker image: https://github.com/kaggle/docker-python\n",
    "# For example, here's several helpful packages to load\n",
    "\n",
    "import numpy as np # linear algebra\n",
    "import pandas as pd # data processing, CSV file I/O (e.g. pd.read_csv)\n",
    "\n",
    "# Input data files are available in the read-only \"../input/\" directory\n",
    "# For example, running this (by clicking run or pressing Shift+Enter) will list all files under the input directory\n",
    "\n",
    "import os\n",
    "for dirname, _, filenames in os.walk('/kaggle/input'):\n",
    "    for filename in filenames:\n",
    "        print(os.path.join(dirname, filename))\n",
    "\n",
    "# You can write up to 20GB to the current directory (/kaggle/working/) that gets preserved as output when you create a version using \"Save & Run All\" \n",
    "# You can also write temporary files to /kaggle/temp/, but they won't be saved outside of the current session"
   ]
  },
  {
   "cell_type": "code",
   "execution_count": 2,
   "id": "67dd433f",
   "metadata": {
    "execution": {
     "iopub.execute_input": "2025-06-20T10:17:23.125293Z",
     "iopub.status.busy": "2025-06-20T10:17:23.124836Z",
     "iopub.status.idle": "2025-06-20T10:17:23.129439Z",
     "shell.execute_reply": "2025-06-20T10:17:23.128541Z"
    },
    "papermill": {
     "duration": 0.013786,
     "end_time": "2025-06-20T10:17:23.130740",
     "exception": false,
     "start_time": "2025-06-20T10:17:23.116954",
     "status": "completed"
    },
    "tags": []
   },
   "outputs": [
    {
     "name": "stdout",
     "output_type": "stream",
     "text": [
      "Hello World! This is Isbat Uddin starting Python\n"
     ]
    }
   ],
   "source": [
    "#Python Basics\n",
    "print(\"Hello World! This is Isbat Uddin starting Python\")"
   ]
  },
  {
   "cell_type": "markdown",
   "id": "51293848",
   "metadata": {
    "papermill": {
     "duration": 0.005499,
     "end_time": "2025-06-20T10:17:23.141885",
     "exception": false,
     "start_time": "2025-06-20T10:17:23.136386",
     "status": "completed"
    },
    "tags": []
   },
   "source": [
    "Variables, hello_world.py"
   ]
  },
  {
   "cell_type": "code",
   "execution_count": 3,
   "id": "de7b5c37",
   "metadata": {
    "execution": {
     "iopub.execute_input": "2025-06-20T10:17:23.154008Z",
     "iopub.status.busy": "2025-06-20T10:17:23.153718Z",
     "iopub.status.idle": "2025-06-20T10:17:23.158141Z",
     "shell.execute_reply": "2025-06-20T10:17:23.157241Z"
    },
    "papermill": {
     "duration": 0.012156,
     "end_time": "2025-06-20T10:17:23.159533",
     "exception": false,
     "start_time": "2025-06-20T10:17:23.147377",
     "status": "completed"
    },
    "tags": []
   },
   "outputs": [
    {
     "name": "stdout",
     "output_type": "stream",
     "text": [
      "Hello Python Its Isbat\n"
     ]
    }
   ],
   "source": [
    "message = \"Hello Python Its Isbat\"\n",
    "print(message)"
   ]
  },
  {
   "cell_type": "code",
   "execution_count": 4,
   "id": "42b0c23b",
   "metadata": {
    "execution": {
     "iopub.execute_input": "2025-06-20T10:17:23.171505Z",
     "iopub.status.busy": "2025-06-20T10:17:23.171229Z",
     "iopub.status.idle": "2025-06-20T10:17:23.175617Z",
     "shell.execute_reply": "2025-06-20T10:17:23.174692Z"
    },
    "papermill": {
     "duration": 0.011943,
     "end_time": "2025-06-20T10:17:23.176948",
     "exception": false,
     "start_time": "2025-06-20T10:17:23.165005",
     "status": "completed"
    },
    "tags": []
   },
   "outputs": [
    {
     "name": "stdout",
     "output_type": "stream",
     "text": [
      "Hello Python its Isbat\n",
      "I am learning Python for ML\n"
     ]
    }
   ],
   "source": [
    "message = \"Hello Python its Isbat\"\n",
    "print(message)\n",
    "message = \"I am learning Python for ML\"\n",
    "print(message)"
   ]
  },
  {
   "cell_type": "code",
   "execution_count": 5,
   "id": "5eeecf12",
   "metadata": {
    "execution": {
     "iopub.execute_input": "2025-06-20T10:17:23.189610Z",
     "iopub.status.busy": "2025-06-20T10:17:23.188768Z",
     "iopub.status.idle": "2025-06-20T10:17:23.193680Z",
     "shell.execute_reply": "2025-06-20T10:17:23.192924Z"
    },
    "papermill": {
     "duration": 0.012334,
     "end_time": "2025-06-20T10:17:23.194912",
     "exception": false,
     "start_time": "2025-06-20T10:17:23.182578",
     "status": "completed"
    },
    "tags": []
   },
   "outputs": [
    {
     "name": "stdout",
     "output_type": "stream",
     "text": [
      "I am a Business student;\n",
      "But I love programming.\n"
     ]
    }
   ],
   "source": [
    "message = \"I am a Business student;\"\n",
    "print(message)\n",
    "message_2 = \"But I love programming.\"\n",
    "print(message_2)"
   ]
  },
  {
   "cell_type": "markdown",
   "id": "0ac0c7cd",
   "metadata": {
    "papermill": {
     "duration": 0.005146,
     "end_time": "2025-06-20T10:17:23.205621",
     "exception": false,
     "start_time": "2025-06-20T10:17:23.200475",
     "status": "completed"
    },
    "tags": []
   },
   "source": [
    "Name.py****"
   ]
  },
  {
   "cell_type": "code",
   "execution_count": 6,
   "id": "5c8d7e2f",
   "metadata": {
    "execution": {
     "iopub.execute_input": "2025-06-20T10:17:23.217675Z",
     "iopub.status.busy": "2025-06-20T10:17:23.217052Z",
     "iopub.status.idle": "2025-06-20T10:17:23.221617Z",
     "shell.execute_reply": "2025-06-20T10:17:23.220808Z"
    },
    "papermill": {
     "duration": 0.011859,
     "end_time": "2025-06-20T10:17:23.222878",
     "exception": false,
     "start_time": "2025-06-20T10:17:23.211019",
     "status": "completed"
    },
    "tags": []
   },
   "outputs": [
    {
     "name": "stdout",
     "output_type": "stream",
     "text": [
      "Isbat Uddin\n"
     ]
    }
   ],
   "source": [
    "name = \"isbat uddin\"\n",
    "print(name.title())"
   ]
  },
  {
   "cell_type": "code",
   "execution_count": 7,
   "id": "6833558d",
   "metadata": {
    "execution": {
     "iopub.execute_input": "2025-06-20T10:17:23.235326Z",
     "iopub.status.busy": "2025-06-20T10:17:23.234735Z",
     "iopub.status.idle": "2025-06-20T10:17:23.239661Z",
     "shell.execute_reply": "2025-06-20T10:17:23.238730Z"
    },
    "papermill": {
     "duration": 0.012289,
     "end_time": "2025-06-20T10:17:23.240858",
     "exception": false,
     "start_time": "2025-06-20T10:17:23.228569",
     "status": "completed"
    },
    "tags": []
   },
   "outputs": [
    {
     "name": "stdout",
     "output_type": "stream",
     "text": [
      "ISBAT UDDIN\n",
      "isbat uddin\n"
     ]
    }
   ],
   "source": [
    "name = \"isbat uddin\"\n",
    "print(name.upper())\n",
    "print(name.lower())"
   ]
  },
  {
   "cell_type": "code",
   "execution_count": 8,
   "id": "d4c28f7a",
   "metadata": {
    "execution": {
     "iopub.execute_input": "2025-06-20T10:17:23.253549Z",
     "iopub.status.busy": "2025-06-20T10:17:23.253236Z",
     "iopub.status.idle": "2025-06-20T10:17:23.257674Z",
     "shell.execute_reply": "2025-06-20T10:17:23.256843Z"
    },
    "papermill": {
     "duration": 0.012119,
     "end_time": "2025-06-20T10:17:23.259055",
     "exception": false,
     "start_time": "2025-06-20T10:17:23.246936",
     "status": "completed"
    },
    "tags": []
   },
   "outputs": [
    {
     "name": "stdout",
     "output_type": "stream",
     "text": [
      "isbat uddin\n"
     ]
    }
   ],
   "source": [
    "first_name = \"isbat\"\n",
    "last_name = \"uddin\"\n",
    "full_name = f\"{first_name} {last_name}\"\n",
    "print(full_name)"
   ]
  },
  {
   "cell_type": "code",
   "execution_count": 9,
   "id": "3d2c7876",
   "metadata": {
    "execution": {
     "iopub.execute_input": "2025-06-20T10:17:23.271538Z",
     "iopub.status.busy": "2025-06-20T10:17:23.271222Z",
     "iopub.status.idle": "2025-06-20T10:17:23.275978Z",
     "shell.execute_reply": "2025-06-20T10:17:23.275047Z"
    },
    "papermill": {
     "duration": 0.012431,
     "end_time": "2025-06-20T10:17:23.277235",
     "exception": false,
     "start_time": "2025-06-20T10:17:23.264804",
     "status": "completed"
    },
    "tags": []
   },
   "outputs": [
    {
     "name": "stdout",
     "output_type": "stream",
     "text": [
      "Hello, Isbat Uddin!\n"
     ]
    }
   ],
   "source": [
    "first_name = \"isbat\"\n",
    "last_name = \"uddin\"\n",
    "full_name = f\"{first_name} {last_name}\"\n",
    "print(f\"Hello, {full_name.title()}!\")"
   ]
  },
  {
   "cell_type": "code",
   "execution_count": 10,
   "id": "acf91539",
   "metadata": {
    "execution": {
     "iopub.execute_input": "2025-06-20T10:17:23.290343Z",
     "iopub.status.busy": "2025-06-20T10:17:23.289532Z",
     "iopub.status.idle": "2025-06-20T10:17:23.294118Z",
     "shell.execute_reply": "2025-06-20T10:17:23.293354Z"
    },
    "papermill": {
     "duration": 0.012474,
     "end_time": "2025-06-20T10:17:23.295388",
     "exception": false,
     "start_time": "2025-06-20T10:17:23.282914",
     "status": "completed"
    },
    "tags": []
   },
   "outputs": [
    {
     "name": "stdout",
     "output_type": "stream",
     "text": [
      "languages:\n",
      "Python\n",
      "Javascript\n",
      "C\n",
      "PHP\n"
     ]
    }
   ],
   "source": [
    "print(\"languages:\\nPython\\nJavascript\\nC\\nPHP\")"
   ]
  },
  {
   "cell_type": "code",
   "execution_count": 11,
   "id": "b9e49af0",
   "metadata": {
    "execution": {
     "iopub.execute_input": "2025-06-20T10:17:23.310134Z",
     "iopub.status.busy": "2025-06-20T10:17:23.309131Z",
     "iopub.status.idle": "2025-06-20T10:17:23.314484Z",
     "shell.execute_reply": "2025-06-20T10:17:23.313728Z"
    },
    "papermill": {
     "duration": 0.013348,
     "end_time": "2025-06-20T10:17:23.315780",
     "exception": false,
     "start_time": "2025-06-20T10:17:23.302432",
     "status": "completed"
    },
    "tags": []
   },
   "outputs": [
    {
     "name": "stdout",
     "output_type": "stream",
     "text": [
      "Hello Isbat Uddin!\n"
     ]
    }
   ],
   "source": [
    "name = \"isbat uddin\"\n",
    "message = f\"Hello {name.title()}!\"\n",
    "print(message)\n"
   ]
  },
  {
   "cell_type": "markdown",
   "id": "382734a1",
   "metadata": {
    "papermill": {
     "duration": 0.006029,
     "end_time": "2025-06-20T10:17:23.327701",
     "exception": false,
     "start_time": "2025-06-20T10:17:23.321672",
     "status": "completed"
    },
    "tags": []
   },
   "source": [
    " Name Cases: Use a variable to represent a person’s name, and then print \n",
    "that person’s name in lowercase, uppercase, and title case."
   ]
  },
  {
   "cell_type": "code",
   "execution_count": 12,
   "id": "3d793a22",
   "metadata": {
    "execution": {
     "iopub.execute_input": "2025-06-20T10:17:23.340721Z",
     "iopub.status.busy": "2025-06-20T10:17:23.339922Z",
     "iopub.status.idle": "2025-06-20T10:17:23.344724Z",
     "shell.execute_reply": "2025-06-20T10:17:23.343967Z"
    },
    "papermill": {
     "duration": 0.012389,
     "end_time": "2025-06-20T10:17:23.345883",
     "exception": false,
     "start_time": "2025-06-20T10:17:23.333494",
     "status": "completed"
    },
    "tags": []
   },
   "outputs": [
    {
     "name": "stdout",
     "output_type": "stream",
     "text": [
      "Monkey D. Luffy\n",
      "MONKEY D. LUFFY\n",
      "monkey d. luffy\n"
     ]
    }
   ],
   "source": [
    "name = \"monkey d. luffy\"\n",
    "print(name.title())\n",
    "print(name.upper())\n",
    "print(name.lower())"
   ]
  },
  {
   "cell_type": "markdown",
   "id": "df67e079",
   "metadata": {
    "papermill": {
     "duration": 0.005557,
     "end_time": "2025-06-20T10:17:23.357628",
     "exception": false,
     "start_time": "2025-06-20T10:17:23.352071",
     "status": "completed"
    },
    "tags": []
   },
   "source": [
    " Famous Quote: Find a quote from a famous person you admire. Print the \n",
    "quote and the name of its author. Your output should look something like the \n",
    "following, including the quotation marks:"
   ]
  },
  {
   "cell_type": "code",
   "execution_count": 13,
   "id": "3c5871e7",
   "metadata": {
    "execution": {
     "iopub.execute_input": "2025-06-20T10:17:23.370606Z",
     "iopub.status.busy": "2025-06-20T10:17:23.369814Z",
     "iopub.status.idle": "2025-06-20T10:17:23.374920Z",
     "shell.execute_reply": "2025-06-20T10:17:23.373990Z"
    },
    "papermill": {
     "duration": 0.013188,
     "end_time": "2025-06-20T10:17:23.376561",
     "exception": false,
     "start_time": "2025-06-20T10:17:23.363373",
     "status": "completed"
    },
    "tags": []
   },
   "outputs": [
    {
     "name": "stdout",
     "output_type": "stream",
     "text": [
      "Isbat Uddin once said, 'Who cares who you are, until you prove yourself in this selfish world.'\n"
     ]
    }
   ],
   "source": [
    "quote = \"'Who cares who you are, until you prove yourself in this selfish world.'\"\n",
    "famous_person = \"isbat uddin\"\n",
    "message = f\"{famous_person.title()} once said, {quote}\"\n",
    "print(message)"
   ]
  },
  {
   "cell_type": "code",
   "execution_count": 14,
   "id": "a6ba8842",
   "metadata": {
    "execution": {
     "iopub.execute_input": "2025-06-20T10:17:23.389556Z",
     "iopub.status.busy": "2025-06-20T10:17:23.389279Z",
     "iopub.status.idle": "2025-06-20T10:17:23.395023Z",
     "shell.execute_reply": "2025-06-20T10:17:23.394381Z"
    },
    "papermill": {
     "duration": 0.013773,
     "end_time": "2025-06-20T10:17:23.396378",
     "exception": false,
     "start_time": "2025-06-20T10:17:23.382605",
     "status": "completed"
    },
    "tags": []
   },
   "outputs": [
    {
     "data": {
      "text/plain": [
       "0.30000000000000004"
      ]
     },
     "execution_count": 14,
     "metadata": {},
     "output_type": "execute_result"
    }
   ],
   "source": [
    "3 * 0.1"
   ]
  },
  {
   "cell_type": "code",
   "execution_count": 15,
   "id": "546c9200",
   "metadata": {
    "execution": {
     "iopub.execute_input": "2025-06-20T10:17:23.409777Z",
     "iopub.status.busy": "2025-06-20T10:17:23.409122Z",
     "iopub.status.idle": "2025-06-20T10:17:23.413995Z",
     "shell.execute_reply": "2025-06-20T10:17:23.413394Z"
    },
    "papermill": {
     "duration": 0.012675,
     "end_time": "2025-06-20T10:17:23.415146",
     "exception": false,
     "start_time": "2025-06-20T10:17:23.402471",
     "status": "completed"
    },
    "tags": []
   },
   "outputs": [
    {
     "data": {
      "text/plain": [
       "2.0"
      ]
     },
     "execution_count": 15,
     "metadata": {},
     "output_type": "execute_result"
    }
   ],
   "source": [
    "4/2 # it will always be float"
   ]
  },
  {
   "cell_type": "code",
   "execution_count": 16,
   "id": "84135020",
   "metadata": {
    "execution": {
     "iopub.execute_input": "2025-06-20T10:17:23.428356Z",
     "iopub.status.busy": "2025-06-20T10:17:23.428075Z",
     "iopub.status.idle": "2025-06-20T10:17:23.432038Z",
     "shell.execute_reply": "2025-06-20T10:17:23.431246Z"
    },
    "papermill": {
     "duration": 0.012099,
     "end_time": "2025-06-20T10:17:23.433373",
     "exception": false,
     "start_time": "2025-06-20T10:17:23.421274",
     "status": "completed"
    },
    "tags": []
   },
   "outputs": [
    {
     "name": "stdout",
     "output_type": "stream",
     "text": [
      "14000000000\n"
     ]
    }
   ],
   "source": [
    "universe_age = 14_000_000_000\n",
    "print(universe_age) # python prints only the digits"
   ]
  },
  {
   "cell_type": "code",
   "execution_count": 17,
   "id": "dd095f38",
   "metadata": {
    "execution": {
     "iopub.execute_input": "2025-06-20T10:17:23.446944Z",
     "iopub.status.busy": "2025-06-20T10:17:23.446681Z",
     "iopub.status.idle": "2025-06-20T10:17:23.450139Z",
     "shell.execute_reply": "2025-06-20T10:17:23.449578Z"
    },
    "papermill": {
     "duration": 0.011564,
     "end_time": "2025-06-20T10:17:23.451468",
     "exception": false,
     "start_time": "2025-06-20T10:17:23.439904",
     "status": "completed"
    },
    "tags": []
   },
   "outputs": [],
   "source": [
    "MAX_CONNECTIONS = 5000 #CONSTATS WONT EVER CHANGE"
   ]
  },
  {
   "cell_type": "code",
   "execution_count": 18,
   "id": "4c6efd8b",
   "metadata": {
    "execution": {
     "iopub.execute_input": "2025-06-20T10:17:23.464866Z",
     "iopub.status.busy": "2025-06-20T10:17:23.464597Z",
     "iopub.status.idle": "2025-06-20T10:17:23.469209Z",
     "shell.execute_reply": "2025-06-20T10:17:23.468299Z"
    },
    "papermill": {
     "duration": 0.01284,
     "end_time": "2025-06-20T10:17:23.470494",
     "exception": false,
     "start_time": "2025-06-20T10:17:23.457654",
     "status": "completed"
    },
    "tags": []
   },
   "outputs": [
    {
     "name": "stdout",
     "output_type": "stream",
     "text": [
      "8\n",
      "18.0\n",
      "0.09302325581395349\n",
      "3305757\n"
     ]
    }
   ],
   "source": [
    "print(5+3)\n",
    "print(3.0 * 6)\n",
    "print(4/43)\n",
    "print(3939393-633636)"
   ]
  },
  {
   "cell_type": "markdown",
   "id": "a1b4dd8b",
   "metadata": {
    "papermill": {
     "duration": 0.005866,
     "end_time": "2025-06-20T10:17:23.482599",
     "exception": false,
     "start_time": "2025-06-20T10:17:23.476733",
     "status": "completed"
    },
    "tags": []
   },
   "source": [
    "Favorite Number: Use a variable to represent your favorite number. Then, \n",
    "using that variable, create a message that reveals your favorite number. Print \n",
    "that message"
   ]
  },
  {
   "cell_type": "code",
   "execution_count": 19,
   "id": "33971c4e",
   "metadata": {
    "execution": {
     "iopub.execute_input": "2025-06-20T10:17:23.495807Z",
     "iopub.status.busy": "2025-06-20T10:17:23.495507Z",
     "iopub.status.idle": "2025-06-20T10:17:23.500073Z",
     "shell.execute_reply": "2025-06-20T10:17:23.499229Z"
    },
    "papermill": {
     "duration": 0.012812,
     "end_time": "2025-06-20T10:17:23.501431",
     "exception": false,
     "start_time": "2025-06-20T10:17:23.488619",
     "status": "completed"
    },
    "tags": []
   },
   "outputs": [
    {
     "name": "stdout",
     "output_type": "stream",
     "text": [
      "My favourite number is 03\n"
     ]
    }
   ],
   "source": [
    "fav_num = \"03\"\n",
    "message = f\"My favourite number is {fav_num}\"\n",
    "print(message)"
   ]
  },
  {
   "cell_type": "code",
   "execution_count": 20,
   "id": "270bf976",
   "metadata": {
    "execution": {
     "iopub.execute_input": "2025-06-20T10:17:23.515261Z",
     "iopub.status.busy": "2025-06-20T10:17:23.514548Z",
     "iopub.status.idle": "2025-06-20T10:17:23.520193Z",
     "shell.execute_reply": "2025-06-20T10:17:23.519233Z"
    },
    "papermill": {
     "duration": 0.013801,
     "end_time": "2025-06-20T10:17:23.521513",
     "exception": false,
     "start_time": "2025-06-20T10:17:23.507712",
     "status": "completed"
    },
    "tags": []
   },
   "outputs": [
    {
     "name": "stdout",
     "output_type": "stream",
     "text": [
      "The Zen of Python, by Tim Peters\n",
      "\n",
      "Beautiful is better than ugly.\n",
      "Explicit is better than implicit.\n",
      "Simple is better than complex.\n",
      "Complex is better than complicated.\n",
      "Flat is better than nested.\n",
      "Sparse is better than dense.\n",
      "Readability counts.\n",
      "Special cases aren't special enough to break the rules.\n",
      "Although practicality beats purity.\n",
      "Errors should never pass silently.\n",
      "Unless explicitly silenced.\n",
      "In the face of ambiguity, refuse the temptation to guess.\n",
      "There should be one-- and preferably only one --obvious way to do it.\n",
      "Although that way may not be obvious at first unless you're Dutch.\n",
      "Now is better than never.\n",
      "Although never is often better than *right* now.\n",
      "If the implementation is hard to explain, it's a bad idea.\n",
      "If the implementation is easy to explain, it may be a good idea.\n",
      "Namespaces are one honking great idea -- let's do more of those!\n"
     ]
    }
   ],
   "source": [
    "import this #Zen of python"
   ]
  },
  {
   "cell_type": "markdown",
   "id": "37f8d5fa",
   "metadata": {
    "papermill": {
     "duration": 0.006148,
     "end_time": "2025-06-20T10:17:23.534115",
     "exception": false,
     "start_time": "2025-06-20T10:17:23.527967",
     "status": "completed"
    },
    "tags": []
   },
   "source": [
    "Lists bicycle.py"
   ]
  },
  {
   "cell_type": "code",
   "execution_count": 21,
   "id": "00e9ddc6",
   "metadata": {
    "execution": {
     "iopub.execute_input": "2025-06-20T10:17:23.547698Z",
     "iopub.status.busy": "2025-06-20T10:17:23.547408Z",
     "iopub.status.idle": "2025-06-20T10:17:23.551851Z",
     "shell.execute_reply": "2025-06-20T10:17:23.551186Z"
    },
    "papermill": {
     "duration": 0.012629,
     "end_time": "2025-06-20T10:17:23.553046",
     "exception": false,
     "start_time": "2025-06-20T10:17:23.540417",
     "status": "completed"
    },
    "tags": []
   },
   "outputs": [
    {
     "name": "stdout",
     "output_type": "stream",
     "text": [
      "['luffy', 'zoro', 'nami', 'sanji']\n"
     ]
    }
   ],
   "source": [
    "anime_char = ['luffy', 'zoro', 'nami', 'sanji']\n",
    "print(anime_char)"
   ]
  },
  {
   "cell_type": "code",
   "execution_count": 22,
   "id": "3168b356",
   "metadata": {
    "execution": {
     "iopub.execute_input": "2025-06-20T10:17:23.566936Z",
     "iopub.status.busy": "2025-06-20T10:17:23.566407Z",
     "iopub.status.idle": "2025-06-20T10:17:23.570364Z",
     "shell.execute_reply": "2025-06-20T10:17:23.569567Z"
    },
    "papermill": {
     "duration": 0.012155,
     "end_time": "2025-06-20T10:17:23.571611",
     "exception": false,
     "start_time": "2025-06-20T10:17:23.559456",
     "status": "completed"
    },
    "tags": []
   },
   "outputs": [
    {
     "name": "stdout",
     "output_type": "stream",
     "text": [
      "zoro\n"
     ]
    }
   ],
   "source": [
    "print(anime_char[1])"
   ]
  },
  {
   "cell_type": "code",
   "execution_count": 23,
   "id": "585afae4",
   "metadata": {
    "execution": {
     "iopub.execute_input": "2025-06-20T10:17:23.585510Z",
     "iopub.status.busy": "2025-06-20T10:17:23.585036Z",
     "iopub.status.idle": "2025-06-20T10:17:23.589340Z",
     "shell.execute_reply": "2025-06-20T10:17:23.588664Z"
    },
    "papermill": {
     "duration": 0.012525,
     "end_time": "2025-06-20T10:17:23.590609",
     "exception": false,
     "start_time": "2025-06-20T10:17:23.578084",
     "status": "completed"
    },
    "tags": []
   },
   "outputs": [
    {
     "name": "stdout",
     "output_type": "stream",
     "text": [
      "Zoro\n"
     ]
    }
   ],
   "source": [
    "print(anime_char[1].title())"
   ]
  },
  {
   "cell_type": "code",
   "execution_count": 24,
   "id": "992a4a8a",
   "metadata": {
    "execution": {
     "iopub.execute_input": "2025-06-20T10:17:23.604548Z",
     "iopub.status.busy": "2025-06-20T10:17:23.604277Z",
     "iopub.status.idle": "2025-06-20T10:17:23.608885Z",
     "shell.execute_reply": "2025-06-20T10:17:23.607933Z"
    },
    "papermill": {
     "duration": 0.013035,
     "end_time": "2025-06-20T10:17:23.610106",
     "exception": false,
     "start_time": "2025-06-20T10:17:23.597071",
     "status": "completed"
    },
    "tags": []
   },
   "outputs": [
    {
     "name": "stdout",
     "output_type": "stream",
     "text": [
      "Zoro\n",
      "Sanji\n",
      "NAMI\n"
     ]
    }
   ],
   "source": [
    "print(anime_char[1].title())\n",
    "print(anime_char[3].title())\n",
    "print(anime_char[-2].upper())"
   ]
  },
  {
   "cell_type": "code",
   "execution_count": 25,
   "id": "006f65e4",
   "metadata": {
    "execution": {
     "iopub.execute_input": "2025-06-20T10:17:23.624668Z",
     "iopub.status.busy": "2025-06-20T10:17:23.624032Z",
     "iopub.status.idle": "2025-06-20T10:17:23.628724Z",
     "shell.execute_reply": "2025-06-20T10:17:23.627977Z"
    },
    "papermill": {
     "duration": 0.013199,
     "end_time": "2025-06-20T10:17:23.629978",
     "exception": false,
     "start_time": "2025-06-20T10:17:23.616779",
     "status": "completed"
    },
    "tags": []
   },
   "outputs": [
    {
     "name": "stdout",
     "output_type": "stream",
     "text": [
      "My favourite OP character is Zoro\n",
      "Zoro is cool!\n"
     ]
    }
   ],
   "source": [
    "message = f\"My favourite OP character is {anime_char[-3].title()}\\nZoro is cool!\"\n",
    "print(message)"
   ]
  },
  {
   "cell_type": "markdown",
   "id": "91571fae",
   "metadata": {
    "papermill": {
     "duration": 0.006178,
     "end_time": "2025-06-20T10:17:23.642755",
     "exception": false,
     "start_time": "2025-06-20T10:17:23.636577",
     "status": "completed"
    },
    "tags": []
   },
   "source": [
    " Your Own List: Think of your favorite mode of transportation, such as a \n",
    "motorcycle or a car, and make a list that stores several examples. Use your list \n",
    "to print a series of statements about these items, such as “I would like to own a \n",
    "Honda motorcycle.”"
   ]
  },
  {
   "cell_type": "code",
   "execution_count": 26,
   "id": "becdc93a",
   "metadata": {
    "execution": {
     "iopub.execute_input": "2025-06-20T10:17:23.657093Z",
     "iopub.status.busy": "2025-06-20T10:17:23.656523Z",
     "iopub.status.idle": "2025-06-20T10:17:23.661411Z",
     "shell.execute_reply": "2025-06-20T10:17:23.660504Z"
    },
    "papermill": {
     "duration": 0.013481,
     "end_time": "2025-06-20T10:17:23.662721",
     "exception": false,
     "start_time": "2025-06-20T10:17:23.649240",
     "status": "completed"
    },
    "tags": []
   },
   "outputs": [
    {
     "name": "stdout",
     "output_type": "stream",
     "text": [
      "I love Car\n",
      "I also love Bike\n",
      "But Rickshaw is awesome!\n"
     ]
    }
   ],
   "source": [
    "transport = ['Car', 'Bike', 'Rickshaw']\n",
    "print(f\"I love {transport[0]}\")\n",
    "print(f\"I also love {transport[1]}\")\n",
    "print(f\"But {transport[-1]} is awesome!\")\n"
   ]
  },
  {
   "cell_type": "code",
   "execution_count": 27,
   "id": "db4ed34d",
   "metadata": {
    "execution": {
     "iopub.execute_input": "2025-06-20T10:17:23.676706Z",
     "iopub.status.busy": "2025-06-20T10:17:23.676483Z",
     "iopub.status.idle": "2025-06-20T10:17:23.680621Z",
     "shell.execute_reply": "2025-06-20T10:17:23.679804Z"
    },
    "papermill": {
     "duration": 0.012596,
     "end_time": "2025-06-20T10:17:23.682001",
     "exception": false,
     "start_time": "2025-06-20T10:17:23.669405",
     "status": "completed"
    },
    "tags": []
   },
   "outputs": [
    {
     "name": "stdout",
     "output_type": "stream",
     "text": [
      "['One piece', 'Aot', 'Dragon Ball']\n"
     ]
    }
   ],
   "source": [
    "anime = ['One piece', 'Aot', 'Dragon Ball']\n",
    "print(anime)"
   ]
  },
  {
   "cell_type": "code",
   "execution_count": 28,
   "id": "bbeea58a",
   "metadata": {
    "execution": {
     "iopub.execute_input": "2025-06-20T10:17:23.753416Z",
     "iopub.status.busy": "2025-06-20T10:17:23.752809Z",
     "iopub.status.idle": "2025-06-20T10:17:23.757511Z",
     "shell.execute_reply": "2025-06-20T10:17:23.756496Z"
    },
    "papermill": {
     "duration": 0.013682,
     "end_time": "2025-06-20T10:17:23.758846",
     "exception": false,
     "start_time": "2025-06-20T10:17:23.745164",
     "status": "completed"
    },
    "tags": []
   },
   "outputs": [
    {
     "name": "stdout",
     "output_type": "stream",
     "text": [
      "['One piece', 'Aot', 'Chainsawman']\n"
     ]
    }
   ],
   "source": [
    "anime[2] = 'Chainsawman'\n",
    "print(anime)"
   ]
  },
  {
   "cell_type": "code",
   "execution_count": 29,
   "id": "bf2d12f4",
   "metadata": {
    "execution": {
     "iopub.execute_input": "2025-06-20T10:17:23.773649Z",
     "iopub.status.busy": "2025-06-20T10:17:23.772956Z",
     "iopub.status.idle": "2025-06-20T10:17:23.776575Z",
     "shell.execute_reply": "2025-06-20T10:17:23.775916Z"
    },
    "papermill": {
     "duration": 0.012228,
     "end_time": "2025-06-20T10:17:23.777778",
     "exception": false,
     "start_time": "2025-06-20T10:17:23.765550",
     "status": "completed"
    },
    "tags": []
   },
   "outputs": [],
   "source": [
    "anime.append('Monster')"
   ]
  },
  {
   "cell_type": "code",
   "execution_count": 30,
   "id": "b4c2a448",
   "metadata": {
    "execution": {
     "iopub.execute_input": "2025-06-20T10:17:23.792324Z",
     "iopub.status.busy": "2025-06-20T10:17:23.792023Z",
     "iopub.status.idle": "2025-06-20T10:17:23.796198Z",
     "shell.execute_reply": "2025-06-20T10:17:23.795488Z"
    },
    "papermill": {
     "duration": 0.012906,
     "end_time": "2025-06-20T10:17:23.797384",
     "exception": false,
     "start_time": "2025-06-20T10:17:23.784478",
     "status": "completed"
    },
    "tags": []
   },
   "outputs": [
    {
     "name": "stdout",
     "output_type": "stream",
     "text": [
      "['One piece', 'Aot', 'Chainsawman', 'Monster']\n"
     ]
    }
   ],
   "source": [
    "print(anime)"
   ]
  },
  {
   "cell_type": "code",
   "execution_count": null,
   "id": "fe425acf",
   "metadata": {
    "papermill": {
     "duration": 0.006978,
     "end_time": "2025-06-20T10:17:23.811062",
     "exception": false,
     "start_time": "2025-06-20T10:17:23.804084",
     "status": "completed"
    },
    "tags": []
   },
   "outputs": [],
   "source": []
  }
 ],
 "metadata": {
  "kaggle": {
   "accelerator": "none",
   "dataSources": [],
   "dockerImageVersionId": 31040,
   "isGpuEnabled": false,
   "isInternetEnabled": false,
   "language": "python",
   "sourceType": "notebook"
  },
  "kernelspec": {
   "display_name": "Python 3",
   "language": "python",
   "name": "python3"
  },
  "language_info": {
   "codemirror_mode": {
    "name": "ipython",
    "version": 3
   },
   "file_extension": ".py",
   "mimetype": "text/x-python",
   "name": "python",
   "nbconvert_exporter": "python",
   "pygments_lexer": "ipython3",
   "version": "3.11.11"
  },
  "papermill": {
   "default_parameters": {},
   "duration": 8.101701,
   "end_time": "2025-06-20T10:17:24.336580",
   "environment_variables": {},
   "exception": null,
   "input_path": "__notebook__.ipynb",
   "output_path": "__notebook__.ipynb",
   "parameters": {},
   "start_time": "2025-06-20T10:17:16.234879",
   "version": "2.6.0"
  }
 },
 "nbformat": 4,
 "nbformat_minor": 5
}
